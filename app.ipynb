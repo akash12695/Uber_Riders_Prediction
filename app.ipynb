{
 "cells": [
  {
   "cell_type": "code",
   "execution_count": 4,
   "metadata": {},
   "outputs": [],
   "source": [
    "import numpy as np\n",
    "from flask import Flask,request,render_template\n",
    "import pickle\n",
    "import math\n",
    "\n",
    "#Instantiate the Flask app\n",
    "\n",
    "app=Flask(__name__)\n",
    "model=pickle.load(open('taxi.pkl','rb'))        #it is used to load the model\n",
    "\n",
    "@app.route('/')                                 #Home directory\n",
    "def home():\n",
    "    return render_template('index.html')\n",
    "\n",
    "\n",
    "@app.route('/predict',methods=['POST'])\n",
    "def predict():\n",
    "    '''\n",
    "    For rendering results on HTML GUI\n",
    "    '''\n",
    "    int_features = [int(x) for x in request.form.values()]    #int_features is a list\n",
    "    final_features = [np.array(int_features)]                 #Coverting list into array\n",
    "    prediction = model.predict(final_features)\n",
    "\n",
    "    output = round(prediction[0], 2)                          #Rounding off the output till 2 points after decimal\n",
    "\n",
    "    return render_template('index.html', prediction_text='Number of weekly rides should be {}'.format(math.floor(output)))\n",
    "   \n",
    "\n",
    "#if we want to run this app then we should call run function \n",
    "\n",
    "if __name__ == \"__main__\":\n",
    "    app.run(debug=True)                      #Till the time you are in development mode you have to be in debug mode\n"
   ]
  }
 ],
 "metadata": {
  "kernelspec": {
   "display_name": "Python 3",
   "language": "python",
   "name": "python3"
  },
  "language_info": {
   "codemirror_mode": {
    "name": "ipython",
    "version": 3
   },
   "file_extension": ".py",
   "mimetype": "text/x-python",
   "name": "python",
   "nbconvert_exporter": "python",
   "pygments_lexer": "ipython3",
   "version": "3.7.6"
  },
  "toc": {
   "base_numbering": 1,
   "nav_menu": {},
   "number_sections": true,
   "sideBar": true,
   "skip_h1_title": false,
   "title_cell": "Table of Contents",
   "title_sidebar": "Contents",
   "toc_cell": false,
   "toc_position": {},
   "toc_section_display": true,
   "toc_window_display": false
  }
 },
 "nbformat": 4,
 "nbformat_minor": 4
}
